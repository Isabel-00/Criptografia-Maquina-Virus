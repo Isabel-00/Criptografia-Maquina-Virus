{
 "cells": [
  {
   "cell_type": "code",
   "execution_count": 2,
   "metadata": {
    "ExecuteTime": {
     "end_time": "2023-10-29T15:43:45.859422Z",
     "start_time": "2023-10-29T15:43:45.802034Z"
    }
   },
   "outputs": [],
   "source": [
    "from Firma import FirmaDSA\n",
    "from Verificacion import VerificacionDSA\n",
    "from GeneracionClaves import GeneracionClavesDSA"
   ]
  },
  {
   "cell_type": "code",
   "execution_count": 7,
   "metadata": {
    "ExecuteTime": {
     "end_time": "2023-10-29T15:48:39.395307Z",
     "start_time": "2023-10-29T15:48:39.339422Z"
    },
    "scrolled": true
   },
   "outputs": [
    {
     "name": "stdout",
     "output_type": "stream",
     "text": [
      "La clave pública es (31, 5, 2, 8) y la clave privada 3.\n",
      "La firma es (3, 3)\n",
      "La firma es correcta\n"
     ]
    }
   ],
   "source": [
    "p=31\n",
    "q=5\n",
    "z=6\n",
    "hm=20\n",
    "\n",
    "vm = GeneracionClavesDSA(p,q,z)\n",
    "sol = vm.compute()\n",
    "g,y=sol[1][4:6]\n",
    "x=sol[1][14]\n",
    "\n",
    "print(f\"La clave pública es {p,q,g,y} y la clave privada {x}.\")\n",
    "\n",
    "vm = FirmaDSA(p,q,g,y,hm,x) \n",
    "sol=vm.compute()\n",
    "r,s = sol[1][7:9]\n",
    "print(f\"La firma es {r,s}\")\n",
    "if (s==0):\n",
    "    print(\"No podemos continuar, el valor 0 no tiene inverso\")\n",
    "else:    \n",
    "    vm = VerificacionDSA(p,q,g,y,hm,r,s) \n",
    "    sol=vm.compute()\n",
    "    if (sol[1][-1]==1):\n",
    "        print(\"La firma es correcta\")\n",
    "    else:\n",
    "        print(\"La firma es incorrecta\")"
   ]
  },
  {
   "cell_type": "code",
   "execution_count": 8,
   "metadata": {
    "ExecuteTime": {
     "end_time": "2023-10-29T17:10:47.289083Z",
     "start_time": "2023-10-29T17:10:47.180373Z"
    }
   },
   "outputs": [
    {
     "name": "stdout",
     "output_type": "stream",
     "text": [
      "La clave pública es (31, 5, 2, 4) y la clave privada 2.\n",
      "La firma es (4, 4)\n",
      "La firma es correcta\n"
     ]
    }
   ],
   "source": [
    "p=31\n",
    "q=5\n",
    "z=6\n",
    "hm=20\n",
    "\n",
    "vm = GeneracionClavesDSA(p,q,z)\n",
    "sol = vm.compute()\n",
    "g,y=sol[1][4:6]\n",
    "x=sol[1][14]\n",
    "\n",
    "print(f\"La clave pública es {p,q,g,y} y la clave privada {x}.\")\n",
    "\n",
    "vm = FirmaDSA(p,q,g,y,hm,x) \n",
    "sol=vm.compute()\n",
    "r,s = sol[1][7:9]\n",
    "print(f\"La firma es {r,s}\")\n",
    "if (s==0):\n",
    "    print(\"No podemos continuar, el valor 0 no tiene inverso\")\n",
    "else:    \n",
    "    vm = VerificacionDSA(p,q,g,y,hm,r,s) \n",
    "    sol=vm.compute()\n",
    "    if (sol[1][-1]==1):\n",
    "        print(\"La firma es correcta\")\n",
    "    else:\n",
    "        print(\"La firma es incorrecta\")"
   ]
  },
  {
   "cell_type": "code",
   "execution_count": 11,
   "metadata": {
    "ExecuteTime": {
     "end_time": "2023-10-29T17:17:17.831282Z",
     "start_time": "2023-10-29T17:17:17.730520Z"
    },
    "scrolled": true
   },
   "outputs": [
    {
     "name": "stdout",
     "output_type": "stream",
     "text": [
      "La clave pública es (31, 5, 2, 4) y la clave privada 2.\n",
      "La firma es (3, 2)\n",
      "La firma es correcta\n"
     ]
    }
   ],
   "source": [
    "p=31\n",
    "q=5\n",
    "z=6\n",
    "hm=20\n",
    "\n",
    "vm = GeneracionClavesDSA(p,q,z)\n",
    "sol = vm.compute()\n",
    "g,y=sol[1][4:6]\n",
    "x=sol[1][14]\n",
    "\n",
    "print(f\"La clave pública es {p,q,g,y} y la clave privada {x}.\")\n",
    "\n",
    "vm = FirmaDSA(p,q,g,y,hm,x) \n",
    "sol=vm.compute()\n",
    "r,s = sol[1][7:9]\n",
    "print(f\"La firma es {r,s}\")\n",
    "if (s==0):\n",
    "    print(\"No podemos continuar, el valor 0 no tiene inverso\")\n",
    "else:    \n",
    "    vm = VerificacionDSA(p,q,g,y,hm,r,s) \n",
    "    sol=vm.compute()\n",
    "    if (sol[1][-1]==1):\n",
    "        print(\"La firma es correcta\")\n",
    "    else:\n",
    "        print(\"La firma es incorrecta\")"
   ]
  },
  {
   "cell_type": "code",
   "execution_count": null,
   "metadata": {},
   "outputs": [],
   "source": []
  },
  {
   "cell_type": "code",
   "execution_count": 12,
   "metadata": {
    "ExecuteTime": {
     "end_time": "2023-10-29T17:27:39.275734Z",
     "start_time": "2023-10-29T17:23:51.345192Z"
    }
   },
   "outputs": [
    {
     "name": "stdout",
     "output_type": "stream",
     "text": [
      "La clave pública es (29, 7, 16, 23) y la clave privada 5.\n",
      "La firma es (3, 3)\n",
      "La firma es correcta\n"
     ]
    }
   ],
   "source": [
    "p=29\n",
    "q=7\n",
    "z=4\n",
    "hm=243\n",
    "\n",
    "vm = GeneracionClavesDSA(p,q,z)\n",
    "sol = vm.compute()\n",
    "g,y=sol[1][4:6]\n",
    "x=sol[1][14]\n",
    "\n",
    "print(f\"La clave pública es {p,q,g,y} y la clave privada {x}.\")\n",
    "\n",
    "vm = FirmaDSA(p,q,g,y,hm,x) \n",
    "sol=vm.compute()\n",
    "r,s = sol[1][7:9]\n",
    "print(f\"La firma es {r,s}\")\n",
    "if (s==0):\n",
    "    print(\"No podemos continuar, el valor 0 no tiene inverso\")\n",
    "else:    \n",
    "    vm = VerificacionDSA(p,q,g,y,hm,r,s) \n",
    "    sol=vm.compute()\n",
    "    if (sol[1][-1]==1):\n",
    "        print(\"La firma es correcta\")\n",
    "    else:\n",
    "        print(\"La firma es incorrecta\")"
   ]
  },
  {
   "cell_type": "markdown",
   "metadata": {},
   "source": [
    "Probamos con una firma distinta y efectivamente obtenemos que es incorrecta."
   ]
  },
  {
   "cell_type": "code",
   "execution_count": 14,
   "metadata": {
    "ExecuteTime": {
     "end_time": "2023-10-29T17:28:40.728196Z",
     "start_time": "2023-10-29T17:28:39.884401Z"
    }
   },
   "outputs": [
    {
     "name": "stdout",
     "output_type": "stream",
     "text": [
      "La firma es incorrecta\n"
     ]
    }
   ],
   "source": [
    "vm = VerificacionDSA(p,q,g,y,hm,3,5) \n",
    "sol=vm.compute()\n",
    "if (sol[1][-1]==1):\n",
    "    print(\"La firma es correcta\")\n",
    "else:\n",
    "    print(\"La firma es incorrecta\")"
   ]
  },
  {
   "cell_type": "code",
   "execution_count": 15,
   "metadata": {
    "ExecuteTime": {
     "end_time": "2023-10-29T17:29:23.481552Z",
     "start_time": "2023-10-29T17:29:06.001638Z"
    }
   },
   "outputs": [
    {
     "name": "stdout",
     "output_type": "stream",
     "text": [
      "La clave pública es (29, 7, 16, 7) y la clave privada 3.\n",
      "La firma es (4, 6)\n",
      "La firma es correcta\n"
     ]
    }
   ],
   "source": [
    "p=29\n",
    "q=7\n",
    "z=4\n",
    "hm=243\n",
    "\n",
    "vm = GeneracionClavesDSA(p,q,z)\n",
    "sol = vm.compute()\n",
    "g,y=sol[1][4:6]\n",
    "x=sol[1][14]\n",
    "\n",
    "print(f\"La clave pública es {p,q,g,y} y la clave privada {x}.\")\n",
    "\n",
    "vm = FirmaDSA(p,q,g,y,hm,x) \n",
    "sol=vm.compute()\n",
    "r,s = sol[1][7:9]\n",
    "print(f\"La firma es {r,s}\")\n",
    "if (s==0):\n",
    "    print(\"No podemos continuar, el valor 0 no tiene inverso\")\n",
    "else:    \n",
    "    vm = VerificacionDSA(p,q,g,y,hm,r,s) \n",
    "    sol=vm.compute()\n",
    "    if (sol[1][-1]==1):\n",
    "        print(\"La firma es correcta\")\n",
    "    else:\n",
    "        print(\"La firma es incorrecta\")"
   ]
  },
  {
   "cell_type": "code",
   "execution_count": null,
   "metadata": {},
   "outputs": [],
   "source": []
  }
 ],
 "metadata": {
  "kernelspec": {
   "display_name": "Python 3",
   "language": "python",
   "name": "python3"
  },
  "language_info": {
   "codemirror_mode": {
    "name": "ipython",
    "version": 3
   },
   "file_extension": ".py",
   "mimetype": "text/x-python",
   "name": "python",
   "nbconvert_exporter": "python",
   "pygments_lexer": "ipython3",
   "version": "3.7.6"
  },
  "latex_envs": {
   "LaTeX_envs_menu_present": true,
   "autoclose": false,
   "autocomplete": true,
   "bibliofile": "biblio.bib",
   "cite_by": "apalike",
   "current_citInitial": 1,
   "eqLabelWithNumbers": true,
   "eqNumInitial": 1,
   "hotkeys": {
    "equation": "Ctrl-E",
    "itemize": "Ctrl-I"
   },
   "labels_anchors": false,
   "latex_user_defs": false,
   "report_style_numbering": false,
   "user_envs_cfg": false
  }
 },
 "nbformat": 4,
 "nbformat_minor": 2
}

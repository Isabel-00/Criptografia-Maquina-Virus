{
 "cells": [
  {
   "cell_type": "code",
   "execution_count": 1,
   "metadata": {
    "ExecuteTime": {
     "end_time": "2023-11-02T18:40:02.230825Z",
     "start_time": "2023-11-02T18:40:02.217339Z"
    }
   },
   "outputs": [],
   "source": [
    "from funcionesAux import *"
   ]
  },
  {
   "cell_type": "markdown",
   "metadata": {},
   "source": [
    "## Probando distintas clave"
   ]
  },
  {
   "cell_type": "code",
   "execution_count": 2,
   "metadata": {
    "ExecuteTime": {
     "end_time": "2023-11-02T18:40:06.264615Z",
     "start_time": "2023-11-02T18:40:02.800556Z"
    },
    "scrolled": true
   },
   "outputs": [
    {
     "name": "stdout",
     "output_type": "stream",
     "text": [
      "Introduce un texto de 25 caracteres (sin contar espacios): Sólo sé que no se nada Sócrates\n",
      "Introduce una clave de 2, 3 o 6 caracteres (sin contar espacios): mv\n",
      "La clave de forma numérica es [12, 21] y el texto es [18, 14, 11, 14, 18, 4, 16, 20, 4, 13, 14, 18, 4, 13, 0, 3, 0, 18, 14, 2, 17, 0, 19, 4, 18]\n",
      "El texto cifrado es ejxjezcpqianqimymnaxdvfze\n",
      "El texto descifrado es solosequenosenadasocrates\n"
     ]
    }
   ],
   "source": [
    "texto,clave = entrada_parametros()\n",
    "\n",
    "Cifrado_Vigenere(texto,clave)"
   ]
  },
  {
   "cell_type": "code",
   "execution_count": 3,
   "metadata": {
    "ExecuteTime": {
     "end_time": "2023-11-02T18:40:16.605869Z",
     "start_time": "2023-11-02T18:40:12.466333Z"
    }
   },
   "outputs": [
    {
     "name": "stdout",
     "output_type": "stream",
     "text": [
      "Introduce un texto de 25 caracteres (sin contar espacios): Sólo sé que no se nada Sócrates\n",
      "Introduce una clave de 2, 3 o 6 caracteres (sin contar espacios): vig\n",
      "La clave de forma numérica es [21, 8, 6] y el texto es [18, 14, 11, 14, 18, 4, 16, 20, 4, 13, 14, 18, 4, 13, 0, 3, 0, 18, 14, 2, 17, 0, 19, 4, 18]\n",
      "El texto cifrado es nwrjaklckiwyzvgyiyjkxvbkn\n",
      "El texto descifrado es solosequenosenadasocrates\n"
     ]
    }
   ],
   "source": [
    "texto,clave = entrada_parametros()\n",
    "\n",
    "Cifrado_Vigenere(texto,clave)"
   ]
  },
  {
   "cell_type": "code",
   "execution_count": 4,
   "metadata": {
    "ExecuteTime": {
     "end_time": "2023-11-02T18:40:23.112981Z",
     "start_time": "2023-11-02T18:40:18.800951Z"
    },
    "scrolled": false
   },
   "outputs": [
    {
     "name": "stdout",
     "output_type": "stream",
     "text": [
      "Introduce un texto de 25 caracteres (sin contar espacios): Sólo sé que no se nada Sócrates\n",
      "Introduce una clave de 2, 3 o 6 caracteres (sin contar espacios): cripto\n",
      "La clave de forma numérica es [2, 17, 8, 15, 19, 14] y el texto es [18, 14, 11, 14, 18, 4, 16, 20, 4, 13, 14, 18, 4, 13, 0, 3, 0, 18, 14, 2, 17, 0, 19, 4, 18]\n",
      "El texto cifrado es uftdlsslmchggeistgqtzpmsu\n",
      "El texto descifrado es solosequenosenadasocrates\n"
     ]
    }
   ],
   "source": [
    "texto,clave = entrada_parametros()\n",
    " \n",
    "Cifrado_Vigenere(texto,clave)"
   ]
  },
  {
   "cell_type": "code",
   "execution_count": 5,
   "metadata": {
    "ExecuteTime": {
     "end_time": "2023-11-02T18:41:07.438929Z",
     "start_time": "2023-11-02T18:40:41.737412Z"
    },
    "scrolled": false
   },
   "outputs": [
    {
     "name": "stdout",
     "output_type": "stream",
     "text": [
      "Introduce un texto de 25 caracteres (sin contar espacios): Este cifrado es Vigenere en máquinas de Virus\n",
      "Texto inválido. Asegúrate de que el texto tenga 25 caracteres.\n",
      "Introduce un texto de 25 caracteres: Este cifrado es de Vigenère\n",
      "Introduce una clave de 2, 3 o 6 caracteres (sin contar espacios): criptografia\n",
      "Clave inválida. Asegúrate de que la clave sea de 2, 3 o 6 caracteres.\n",
      "Introduce una clave de 2, 3 o 6 caracteres: cripto\n",
      "La clave de forma numérica es [2, 17, 8, 15, 19, 14] y el texto es [4, 18, 19, 4, 2, 8, 5, 17, 0, 3, 14, 4, 18, 3, 4, 21, 8, 6, 4, 13, 4, 17, 4, 14, 25]\n",
      "El texto cifrado es gjbtvwhiishsuumkbugemgxcb\n",
      "El texto descifrado es estecifradoesdevigenereoz\n"
     ]
    }
   ],
   "source": [
    "texto,clave = entrada_parametros()\n",
    " \n",
    "Cifrado_Vigenere(texto,clave)"
   ]
  }
 ],
 "metadata": {
  "kernelspec": {
   "display_name": "Python 3",
   "language": "python",
   "name": "python3"
  },
  "language_info": {
   "codemirror_mode": {
    "name": "ipython",
    "version": 3
   },
   "file_extension": ".py",
   "mimetype": "text/x-python",
   "name": "python",
   "nbconvert_exporter": "python",
   "pygments_lexer": "ipython3",
   "version": "3.7.6"
  },
  "latex_envs": {
   "LaTeX_envs_menu_present": true,
   "autoclose": false,
   "autocomplete": true,
   "bibliofile": "biblio.bib",
   "cite_by": "apalike",
   "current_citInitial": 1,
   "eqLabelWithNumbers": true,
   "eqNumInitial": 1,
   "hotkeys": {
    "equation": "Ctrl-E",
    "itemize": "Ctrl-I"
   },
   "labels_anchors": false,
   "latex_user_defs": false,
   "report_style_numbering": false,
   "user_envs_cfg": false
  }
 },
 "nbformat": 4,
 "nbformat_minor": 2
}

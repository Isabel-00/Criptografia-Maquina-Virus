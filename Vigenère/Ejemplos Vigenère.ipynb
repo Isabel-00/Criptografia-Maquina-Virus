{
 "cells": [
  {
   "cell_type": "code",
   "execution_count": 3,
   "metadata": {
    "ExecuteTime": {
     "end_time": "2023-10-29T18:08:15.273127Z",
     "start_time": "2023-10-29T18:08:15.133799Z"
    }
   },
   "outputs": [],
   "source": [
    "from funcionesAux import *"
   ]
  },
  {
   "cell_type": "markdown",
   "metadata": {},
   "source": [
    "## Probando distintas clave"
   ]
  },
  {
   "cell_type": "code",
   "execution_count": 5,
   "metadata": {
    "ExecuteTime": {
     "end_time": "2023-10-29T18:08:50.000341Z",
     "start_time": "2023-10-29T18:08:38.302099Z"
    },
    "scrolled": true
   },
   "outputs": [
    {
     "name": "stdout",
     "output_type": "stream",
     "text": [
      "Introduce un texto de 25 caracteres (sin contar espacios): Sólo sé que no se nada Sócrates\n",
      "Introduce una clave de 2, 3 o 6 caracteres (sin contar espacios): mv\n",
      "SóloséquenosenadaSócrates mv\n",
      "[12, 21] [18, 14, 11, 14, 18, 4, 16, 20, 4, 13, 14, 18, 4, 13, 0, 3, 0, 18, 14, 2, 17, 0, 19, 4, 18]\n",
      "El texto cifrado es ejxjezcpqianqimymnaxdvfze\n",
      "El texto descifrado es solosequenosenadasocrates\n"
     ]
    }
   ],
   "source": [
    "texto,clave = entrada_parametros()\n",
    "print(texto,clave)\n",
    "Cifrado_Vigenere(texto,clave)"
   ]
  },
  {
   "cell_type": "code",
   "execution_count": 6,
   "metadata": {
    "ExecuteTime": {
     "end_time": "2023-10-29T18:08:58.061990Z",
     "start_time": "2023-10-29T18:08:52.699370Z"
    }
   },
   "outputs": [
    {
     "name": "stdout",
     "output_type": "stream",
     "text": [
      "Introduce un texto de 25 caracteres (sin contar espacios): Sólo sé que no se nada Sócrates\n",
      "Introduce una clave de 2, 3 o 6 caracteres (sin contar espacios): vig\n",
      "SóloséquenosenadaSócrates vig\n",
      "[21, 8, 6] [18, 14, 11, 14, 18, 4, 16, 20, 4, 13, 14, 18, 4, 13, 0, 3, 0, 18, 14, 2, 17, 0, 19, 4, 18]\n",
      "El texto cifrado es nwrjaklckiwyzvgyiyjkxvbkn\n",
      "El texto descifrado es solosequenosenadasocrates\n"
     ]
    }
   ],
   "source": [
    "texto,clave = entrada_parametros()\n",
    "print(texto,clave)\n",
    "Cifrado_Vigenere(texto,clave)"
   ]
  },
  {
   "cell_type": "code",
   "execution_count": 7,
   "metadata": {
    "ExecuteTime": {
     "end_time": "2023-10-29T18:09:04.454150Z",
     "start_time": "2023-10-29T18:08:59.964656Z"
    },
    "scrolled": false
   },
   "outputs": [
    {
     "name": "stdout",
     "output_type": "stream",
     "text": [
      "Introduce un texto de 25 caracteres (sin contar espacios): Sólo sé que no se nada Sócrates\n",
      "Introduce una clave de 2, 3 o 6 caracteres (sin contar espacios): cripto\n",
      "SóloséquenosenadaSócrates cripto\n",
      "[2, 17, 8, 15, 19, 14] [18, 14, 11, 14, 18, 4, 16, 20, 4, 13, 14, 18, 4, 13, 0, 3, 0, 18, 14, 2, 17, 0, 19, 4, 18]\n",
      "El texto cifrado es uftdlsslmchggeistgqtzpmsu\n",
      "El texto descifrado es solosequenosenadasocrates\n"
     ]
    }
   ],
   "source": [
    "texto,clave = entrada_parametros()\n",
    "print(texto,clave)\n",
    "Cifrado_Vigenere(texto,clave)"
   ]
  },
  {
   "cell_type": "code",
   "execution_count": 8,
   "metadata": {
    "ExecuteTime": {
     "end_time": "2023-10-29T18:10:21.577122Z",
     "start_time": "2023-10-29T18:09:06.583526Z"
    },
    "scrolled": true
   },
   "outputs": [
    {
     "name": "stdout",
     "output_type": "stream",
     "text": [
      "Introduce un texto de 25 caracteres (sin contar espacios): Este cifrado es Vigenere en máquinas de Virus\n",
      "Texto inválido. Asegúrate de que el texto tenga 25 caracteres.\n",
      "Introduce un texto de 25 caracteres: Este cifrado es de Vigenère\n",
      "Introduce una clave de 2, 3 o 6 caracteres (sin contar espacios): criptografia\n",
      "Clave inválida. Asegúrate de que la clave sea de 2, 3 o 6 caracteres.\n",
      "Introduce una clave de 2, 3 o 6 caracteres: cripto\n",
      "EstecifradoesdeVigenère cripto\n",
      "[2, 17, 8, 15, 19, 14] [4, 18, 19, 4, 2, 8, 5, 17, 0, 3, 14, 4, 18, 3, 4, 21, 8, 6, 4, 13, 4, 17, 4, 23, 15]\n",
      "El texto cifrado es gjbtvwhiishsuumkbugemgxlr\n",
      "El texto descifrado es estecifradoesdevigenerexp\n"
     ]
    }
   ],
   "source": [
    "texto,clave = entrada_parametros()\n",
    "print(texto,clave)\n",
    "Cifrado_Vigenere(texto,clave)"
   ]
  },
  {
   "cell_type": "code",
   "execution_count": 28,
   "metadata": {
    "ExecuteTime": {
     "end_time": "2023-10-29T03:30:23.958061Z",
     "start_time": "2023-10-29T03:30:07.005170Z"
    },
    "scrolled": false
   },
   "outputs": [
    {
     "name": "stdout",
     "output_type": "stream",
     "text": [
      "Introduce un texto de 25 caracteres (sin contar espacios): Sólo sé que no se nada Sócrates\n",
      "Introduce una clave de 2, 3 o 6 caracteres (sin contar espacios): vig\n",
      "SóloséquenosenadaSócrates vig\n",
      "[21, 8, 6] [18, 14, 11, 14, 18, 4, 16, 20, 4, 13, 14, 18, 4, 13, 0, 3, 0, 18, 14, 2, 17, 0, 19, 4, 18]\n",
      "El texto cifrado es nwrjaklckiwyzvgyiyjkxvbkn\n",
      "El texto descifrado es solosequenosenadasocrates\n"
     ]
    }
   ],
   "source": [
    "texto,clave = entrada_parametros()\n",
    "print(texto,clave)\n",
    "Cifrado_Vigenere(texto,clave)"
   ]
  }
 ],
 "metadata": {
  "kernelspec": {
   "display_name": "Python 3",
   "language": "python",
   "name": "python3"
  },
  "language_info": {
   "codemirror_mode": {
    "name": "ipython",
    "version": 3
   },
   "file_extension": ".py",
   "mimetype": "text/x-python",
   "name": "python",
   "nbconvert_exporter": "python",
   "pygments_lexer": "ipython3",
   "version": "3.7.6"
  },
  "latex_envs": {
   "LaTeX_envs_menu_present": true,
   "autoclose": false,
   "autocomplete": true,
   "bibliofile": "biblio.bib",
   "cite_by": "apalike",
   "current_citInitial": 1,
   "eqLabelWithNumbers": true,
   "eqNumInitial": 1,
   "hotkeys": {
    "equation": "Ctrl-E",
    "itemize": "Ctrl-I"
   },
   "labels_anchors": false,
   "latex_user_defs": false,
   "report_style_numbering": false,
   "user_envs_cfg": false
  }
 },
 "nbformat": 4,
 "nbformat_minor": 2
}
